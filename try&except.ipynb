{
  "nbformat": 4,
  "nbformat_minor": 0,
  "metadata": {
    "colab": {
      "name": "try&except.ipynb",
      "provenance": [],
      "authorship_tag": "ABX9TyOZ6Qto5SIuRBMAJk5cPTL1",
      "include_colab_link": true
    },
    "kernelspec": {
      "name": "python3",
      "display_name": "Python 3"
    }
  },
  "cells": [
    {
      "cell_type": "markdown",
      "metadata": {
        "id": "view-in-github",
        "colab_type": "text"
      },
      "source": [
        "<a href=\"https://colab.research.google.com/github/hirooutdoor/google_colab/blob/main/try%26except.ipynb\" target=\"_parent\"><img src=\"https://colab.research.google.com/assets/colab-badge.svg\" alt=\"Open In Colab\"/></a>"
      ]
    },
    {
      "cell_type": "code",
      "metadata": {
        "colab": {
          "base_uri": "https://localhost:8080/",
          "height": 236
        },
        "id": "u_V6ML_Q8otg",
        "outputId": "920aa77d-8978-4d94-e452-b7c48b163638"
      },
      "source": [
        "i = input()\n",
        "input_num = int(i) \n",
        "\n",
        "result = 5 / input_num\n",
        "print(result)"
      ],
      "execution_count": 1,
      "outputs": [
        {
          "output_type": "stream",
          "text": [
            "0\n"
          ],
          "name": "stdout"
        },
        {
          "output_type": "error",
          "ename": "ZeroDivisionError",
          "evalue": "ignored",
          "traceback": [
            "\u001b[0;31m---------------------------------------------------------------------------\u001b[0m",
            "\u001b[0;31mZeroDivisionError\u001b[0m                         Traceback (most recent call last)",
            "\u001b[0;32m<ipython-input-1-d4b9fe5958f4>\u001b[0m in \u001b[0;36m<module>\u001b[0;34m()\u001b[0m\n\u001b[1;32m      2\u001b[0m \u001b[0minput_num\u001b[0m \u001b[0;34m=\u001b[0m \u001b[0mint\u001b[0m\u001b[0;34m(\u001b[0m\u001b[0mi\u001b[0m\u001b[0;34m)\u001b[0m\u001b[0;34m\u001b[0m\u001b[0;34m\u001b[0m\u001b[0m\n\u001b[1;32m      3\u001b[0m \u001b[0;34m\u001b[0m\u001b[0m\n\u001b[0;32m----> 4\u001b[0;31m \u001b[0mresult\u001b[0m \u001b[0;34m=\u001b[0m \u001b[0;36m5\u001b[0m \u001b[0;34m/\u001b[0m \u001b[0minput_num\u001b[0m\u001b[0;34m\u001b[0m\u001b[0;34m\u001b[0m\u001b[0m\n\u001b[0m\u001b[1;32m      5\u001b[0m \u001b[0mprint\u001b[0m\u001b[0;34m(\u001b[0m\u001b[0mresult\u001b[0m\u001b[0;34m)\u001b[0m\u001b[0;34m\u001b[0m\u001b[0;34m\u001b[0m\u001b[0m\n",
            "\u001b[0;31mZeroDivisionError\u001b[0m: division by zero"
          ]
        }
      ]
    },
    {
      "cell_type": "code",
      "metadata": {
        "colab": {
          "base_uri": "https://localhost:8080/"
        },
        "id": "ldQK0eW48q_V",
        "outputId": "00568b92-d738-4fc5-97cc-e5d540421161"
      },
      "source": [
        "i = input()\n",
        "input_num = int(i) \n",
        "\n",
        "try:\n",
        "    result = 5 / input_num\n",
        "    print(result)\n",
        "except ZeroDivisionError:\n",
        "    print('ZeroDivisionError!!')"
      ],
      "execution_count": 2,
      "outputs": [
        {
          "output_type": "stream",
          "text": [
            "0\n",
            "ZeroDivisionError!!\n"
          ],
          "name": "stdout"
        }
      ]
    },
    {
      "cell_type": "markdown",
      "metadata": {
        "id": "YXSjP3b89GIP"
      },
      "source": [
        "\n",
        "## 例外処理の構文\n"
      ]
    },
    {
      "cell_type": "code",
      "metadata": {
        "id": "YwytM7AY9cXH"
      },
      "source": [
        "# 例外処理の構文\n",
        "\n",
        "try:\n",
        "    例外が発生しそうなプログラム\n",
        "except:\n",
        "    例外が起きた時の処理\n",
        "\n",
        "    #exceptには、OSErrorやValueError,ZeroDivisionError, NameError, TypeErrorなど例外を記述することができます。\n"
      ],
      "execution_count": null,
      "outputs": []
    },
    {
      "cell_type": "code",
      "metadata": {
        "colab": {
          "base_uri": "https://localhost:8080/"
        },
        "id": "H2Kvabyu9i6F",
        "outputId": "c6c7edd1-a831-48b8-fd82-fe3bed71e5ed"
      },
      "source": [
        "try:\n",
        "    # バグ1\n",
        "    i = input()\n",
        "    input_num = int(i)\n",
        "    result = 5 / input_num # 5 / 2 => 2.05\n",
        "    print(result)\n",
        "\n",
        "    # バグ2\n",
        "    a = \"a\"\n",
        "    b = 5\n",
        "    print(a+b)\n",
        "\n",
        "except (TypeError, ZeroDivisionError, KeyError) as e:\n",
        "    print(type(e))"
      ],
      "execution_count": 3,
      "outputs": [
        {
          "output_type": "stream",
          "text": [
            "2\n",
            "2.5\n",
            "<class 'TypeError'>\n"
          ],
          "name": "stdout"
        }
      ]
    },
    {
      "cell_type": "code",
      "metadata": {
        "colab": {
          "base_uri": "https://localhost:8080/"
        },
        "id": "Y9YgKwVs98QM",
        "outputId": "2d33fd58-ba52-4f33-851f-e0852d8d551f"
      },
      "source": [
        "try:\n",
        "    # バグ1\n",
        "    i = input()\n",
        "    input_num = int(i)\n",
        "    result = 5 / input_num # 5 / 2 => 2.05\n",
        "    print(result)\n",
        "\n",
        "    # バグ2\n",
        "    a = \"a\"\n",
        "    b = 5\n",
        "    print(a+b)\n",
        "\n",
        "except (TypeError, ZeroDivisionError, KeyError) as e:\n",
        "    print(type(e))"
      ],
      "execution_count": 5,
      "outputs": [
        {
          "output_type": "stream",
          "text": [
            "0\n",
            "<class 'ZeroDivisionError'>\n"
          ],
          "name": "stdout"
        }
      ]
    },
    {
      "cell_type": "code",
      "metadata": {
        "colab": {
          "base_uri": "https://localhost:8080/"
        },
        "id": "qOm6hgqa-CRg",
        "outputId": "514a7dcd-8893-42e6-d041-b7110bd5547d"
      },
      "source": [
        "try:\n",
        "    print('処理')\n",
        "except KeyError as e:\n",
        "    print('KeyError')\n",
        "except ZeroDivisionError as e:\n",
        "    print('ZeroDivisionError')\n",
        "except:\n",
        "    print('Error')"
      ],
      "execution_count": 6,
      "outputs": [
        {
          "output_type": "stream",
          "text": [
            "処理\n"
          ],
          "name": "stdout"
        }
      ]
    },
    {
      "cell_type": "markdown",
      "metadata": {
        "id": "nGnCUDc2-eCF"
      },
      "source": [
        "\n",
        "## else / finally"
      ]
    },
    {
      "cell_type": "code",
      "metadata": {
        "id": "geI2IFw2-tLX"
      },
      "source": [
        "try:\n",
        "    print('処理')\n",
        "except KeyError as e:\n",
        "    print('KeyError')\n",
        "except ZeroDivisionError as e:\n",
        "    print('ZeroDivisionError')\n",
        "else:\n",
        "    print('問題なく処理が実行されました')\n",
        "finally:\n",
        "    print('処理2')"
      ],
      "execution_count": null,
      "outputs": []
    }
  ]
}