{
  "nbformat": 4,
  "nbformat_minor": 0,
  "metadata": {
    "colab": {
      "name": "AI_Academy_Colab.ipynb",
      "provenance": [],
      "collapsed_sections": [],
      "include_colab_link": true
    },
    "kernelspec": {
      "name": "python3",
      "display_name": "Python 3"
    }
  },
  "cells": [
    {
      "cell_type": "markdown",
      "metadata": {
        "id": "view-in-github",
        "colab_type": "text"
      },
      "source": [
        "<a href=\"https://colab.research.google.com/github/hirooutdoor/google_colab/blob/main/AI_Academy_Colab.ipynb\" target=\"_parent\"><img src=\"https://colab.research.google.com/assets/colab-badge.svg\" alt=\"Open In Colab\"/></a>"
      ]
    },
    {
      "cell_type": "code",
      "metadata": {
        "id": "A3sjsR2qDGm8",
        "colab": {
          "base_uri": "https://localhost:8080/"
        },
        "outputId": "30e60182-7ecc-4599-f7a4-32fed344c3ad"
      },
      "source": [
        "### 下記の入力フィールドにプログラムを打ち込み、左の実行ボタンを押す事で書いたコードを実行できます。　###\n",
        "\n",
        "years_list = [2017, 2018, 2019, 2020, 2021]\n",
        "print(years_list[3])\n",
        "print(years_list[4])"
      ],
      "execution_count": null,
      "outputs": [
        {
          "output_type": "stream",
          "text": [
            "2020\n",
            "2021\n"
          ],
          "name": "stdout"
        }
      ]
    },
    {
      "cell_type": "code",
      "metadata": {
        "id": "5EcfPhx7DJyE",
        "colab": {
          "base_uri": "https://localhost:8080/"
        },
        "outputId": "b0c21f6c-4abc-4da6-a072-3ce411d8308d"
      },
      "source": [
        "name_list = {\"hiro\": 27, \"kimi\": 22, \"yuki\": 26}\n",
        "name_list[\"taro\"] = 27 \n",
        "print(name_list)"
      ],
      "execution_count": null,
      "outputs": [
        {
          "output_type": "stream",
          "text": [
            "{'hiro': 27, 'kimi': 22, 'yuki': 26, 'taro': 27}\n"
          ],
          "name": "stdout"
        }
      ]
    },
    {
      "cell_type": "markdown",
      "metadata": {
        "id": "b43HhkJ4DaWV"
      },
      "source": [
        ""
      ]
    },
    {
      "cell_type": "code",
      "metadata": {
        "colab": {
          "base_uri": "https://localhost:8080/"
        },
        "id": "pq79MjAQ_NqK",
        "outputId": "df099f73-850e-4331-e855-1a59a499120c"
      },
      "source": [
        "for i in range(10):\n",
        "    print(i)"
      ],
      "execution_count": null,
      "outputs": [
        {
          "output_type": "stream",
          "text": [
            "0\n",
            "1\n",
            "2\n",
            "3\n",
            "4\n",
            "5\n",
            "6\n",
            "7\n",
            "8\n",
            "9\n"
          ],
          "name": "stdout"
        }
      ]
    },
    {
      "cell_type": "code",
      "metadata": {
        "colab": {
          "base_uri": "https://localhost:8080/"
        },
        "id": "tlQ9K5yz-aTn",
        "outputId": "7311b8d3-d78a-40ba-a7f7-f27a698e2ee1"
      },
      "source": [
        "for i in range(5,10):\n",
        "    print(i)"
      ],
      "execution_count": null,
      "outputs": [
        {
          "output_type": "stream",
          "text": [
            "5\n",
            "6\n",
            "7\n",
            "8\n",
            "9\n"
          ],
          "name": "stdout"
        }
      ]
    },
    {
      "cell_type": "code",
      "metadata": {
        "colab": {
          "base_uri": "https://localhost:8080/"
        },
        "id": "LigGgyC1-_f5",
        "outputId": "60a899af-1a04-401d-cb08-e2fb082f1394"
      },
      "source": [
        "for index, name in enumerate([\"apple\", \"banana\", \"melon\"]):\n",
        "    print(index, name)\n",
        "  "
      ],
      "execution_count": null,
      "outputs": [
        {
          "output_type": "stream",
          "text": [
            "0 apple\n",
            "1 banana\n",
            "2 melon\n"
          ],
          "name": "stdout"
        }
      ]
    },
    {
      "cell_type": "code",
      "metadata": {
        "colab": {
          "base_uri": "https://localhost:8080/"
        },
        "id": "aHfLqSHlA1bz",
        "outputId": "a61fc557-a49f-4d47-e455-23e6e0fb26e4"
      },
      "source": [
        "#list関数とrange関数を組み合わせると、次のような1~100までの要素を持ったリストを簡潔に記述することも出来ます\n",
        "print(list(range(101)))"
      ],
      "execution_count": null,
      "outputs": [
        {
          "output_type": "stream",
          "text": [
            "[0, 1, 2, 3, 4, 5, 6, 7, 8, 9, 10, 11, 12, 13, 14, 15, 16, 17, 18, 19, 20, 21, 22, 23, 24, 25, 26, 27, 28, 29, 30, 31, 32, 33, 34, 35, 36, 37, 38, 39, 40, 41, 42, 43, 44, 45, 46, 47, 48, 49, 50, 51, 52, 53, 54, 55, 56, 57, 58, 59, 60, 61, 62, 63, 64, 65, 66, 67, 68, 69, 70, 71, 72, 73, 74, 75, 76, 77, 78, 79, 80, 81, 82, 83, 84, 85, 86, 87, 88, 89, 90, 91, 92, 93, 94, 95, 96, 97, 98, 99, 100]\n"
          ],
          "name": "stdout"
        }
      ]
    },
    {
      "cell_type": "code",
      "metadata": {
        "colab": {
          "base_uri": "https://localhost:8080/"
        },
        "id": "CGw79yXNA8MC",
        "outputId": "d788fd0f-48ad-4cdd-9f69-cad7f10c447f"
      },
      "source": [
        "#辞書型のデータをループするには次のようにitems()を利用します\n",
        "data = {\"tani\": 21, \"kazu\": 22, \"python\": 100}\n",
        "for key, value in data.items():\n",
        "     print(\"key: {}, value: {}\".format(key, value))"
      ],
      "execution_count": null,
      "outputs": [
        {
          "output_type": "stream",
          "text": [
            "key: tani, value: 21\n",
            "key: kazu, value: 22\n",
            "key: python, value: 100\n"
          ],
          "name": "stdout"
        }
      ]
    },
    {
      "cell_type": "code",
      "metadata": {
        "colab": {
          "base_uri": "https://localhost:8080/"
        },
        "id": "r6ySyft3BSZJ",
        "outputId": "9edecbb8-be6d-457f-c450-8edb460bce2a"
      },
      "source": [
        "#リスト内包表記(List Comprehensions)は既存のリストから新しいリストを作るもの\n",
        "result = [x**2 for x in range(1,11)]\n",
        "print(result) # [1, 4, 9, 16, 25, 36, 49, 64, 81, 100]\n",
        "\n",
        "# 通常のループでは次のようになります。\n",
        "result = []\n",
        "for i in range(1,11):\n",
        "    result.append(i**2)\n",
        "\n",
        "print(result) # [1, 4, 9, 16, 25, 36, 49, 64, 81, 100]"
      ],
      "execution_count": null,
      "outputs": [
        {
          "output_type": "stream",
          "text": [
            "[1, 4, 9, 16, 25, 36, 49, 64, 81, 100]\n",
            "[1, 4, 9, 16, 25, 36, 49, 64, 81, 100]\n"
          ],
          "name": "stdout"
        }
      ]
    },
    {
      "cell_type": "code",
      "metadata": {
        "colab": {
          "base_uri": "https://localhost:8080/"
        },
        "id": "0gqpnIthCH_p",
        "outputId": "61dcc38d-25a4-48df-ba7f-3e1e241adfff"
      },
      "source": [
        "for count in [3,2,1,\"Go!\"]:\n",
        "  print(count)\n",
        "\n",
        "counts = [3,2,1,\"Go!\"]\n",
        "for count in counts: #:コロンを忘れずに、インデントは下げない\n",
        "  print(count)"
      ],
      "execution_count": null,
      "outputs": [
        {
          "output_type": "stream",
          "text": [
            "3\n",
            "2\n",
            "1\n",
            "Go!\n",
            "3\n",
            "2\n",
            "1\n",
            "Go!\n"
          ],
          "name": "stdout"
        }
      ]
    },
    {
      "cell_type": "code",
      "metadata": {
        "colab": {
          "base_uri": "https://localhost:8080/"
        },
        "id": "N2hr-QCACkMC",
        "outputId": "3d4a89ca-4e87-4898-bd0c-90cc0dd4460b"
      },
      "source": [
        "even_lists = [] #まずは空のリスト作成\n",
        "for i in range(1,101): #iというループ内変数は1~100までの範囲のリストから取り出したものとする\n",
        "   if i % 2 == 0: #もしiが２で割り切れたら\n",
        "     even_lists.append(i) #event_listsに追加していく\n",
        "print(even_lists) #even_listsを出力"
      ],
      "execution_count": null,
      "outputs": [
        {
          "output_type": "stream",
          "text": [
            "[2, 4, 6, 8, 10, 12, 14, 16, 18, 20, 22, 24, 26, 28, 30, 32, 34, 36, 38, 40, 42, 44, 46, 48, 50, 52, 54, 56, 58, 60, 62, 64, 66, 68, 70, 72, 74, 76, 78, 80, 82, 84, 86, 88, 90, 92, 94, 96, 98, 100]\n"
          ],
          "name": "stdout"
        }
      ]
    },
    {
      "cell_type": "code",
      "metadata": {
        "colab": {
          "base_uri": "https://localhost:8080/"
        },
        "id": "GJwCpwjsEE6O",
        "outputId": "690c452d-f54f-41e6-9d40-e843602bf083"
      },
      "source": [
        "even_lists = []\n",
        "for i in range(1,201):\n",
        "  if i % 2 == 0:\n",
        "    even_lists.append(i)\n",
        "print(even_lists)"
      ],
      "execution_count": null,
      "outputs": [
        {
          "output_type": "stream",
          "text": [
            "[2, 4, 6, 8, 10, 12, 14, 16, 18, 20, 22, 24, 26, 28, 30, 32, 34, 36, 38, 40, 42, 44, 46, 48, 50, 52, 54, 56, 58, 60, 62, 64, 66, 68, 70, 72, 74, 76, 78, 80, 82, 84, 86, 88, 90, 92, 94, 96, 98, 100, 102, 104, 106, 108, 110, 112, 114, 116, 118, 120, 122, 124, 126, 128, 130, 132, 134, 136, 138, 140, 142, 144, 146, 148, 150, 152, 154, 156, 158, 160, 162, 164, 166, 168, 170, 172, 174, 176, 178, 180, 182, 184, 186, 188, 190, 192, 194, 196, 198, 200]\n"
          ],
          "name": "stdout"
        }
      ]
    },
    {
      "cell_type": "markdown",
      "metadata": {
        "id": "-CCfyeUwQuEj"
      },
      "source": [
        "## while文"
      ]
    },
    {
      "cell_type": "code",
      "metadata": {
        "id": "AsU2z13Gbrg0",
        "colab": {
          "base_uri": "https://localhost:8080/"
        },
        "outputId": "d709d922-c865-4358-d995-2fe45221b227"
      },
      "source": [
        "# nが10になるまで繰り返し\n",
        "n = 0\n",
        "while n < 10:\n",
        "    print(n)\n",
        "    n += 1 # +1するのを忘れずに。0が無限に繰り返されることになる"
      ],
      "execution_count": null,
      "outputs": [
        {
          "output_type": "stream",
          "text": [
            "0\n",
            "1\n",
            "2\n",
            "3\n",
            "4\n",
            "5\n",
            "6\n",
            "7\n",
            "8\n",
            "9\n"
          ],
          "name": "stdout"
        }
      ]
    },
    {
      "cell_type": "code",
      "metadata": {
        "colab": {
          "base_uri": "https://localhost:8080/"
        },
        "id": "YQRyCGRxdPza",
        "outputId": "bcb04a22-2e79-4cc4-864d-81ddcf63242f"
      },
      "source": [
        "# (1)\n",
        "sum_d = 0\n",
        "data = [20, 40, 60, 88]\n",
        "\n",
        "# for文内で突然登場する変数dはループ内変数と言って、for文特有の変数です。\n",
        "#（ループ内変数の変数名は自由に定義可能です。）\n",
        "# リストdataの1つ1つの値をループ内変数dに格納します。\n",
        "for d in data:\n",
        "    sum_d += d # sum_d = sum_d + dを省略した書き方です。\n",
        "\n",
        "print(sum_d) # 208が出力されます。20 + 40 + 60 + 88を足し合わせた数です。"
      ],
      "execution_count": null,
      "outputs": [
        {
          "output_type": "stream",
          "text": [
            "208\n"
          ],
          "name": "stdout"
        }
      ]
    },
    {
      "cell_type": "markdown",
      "metadata": {
        "id": "Fd-miyIxdyIf"
      },
      "source": [
        "先ほど書いたforのプログラムにelseを使うことも可能です。\n",
        "\n",
        "**Pythonでは、ここで登場したfor文やWhile文にてelseを使うことが出来ます。** \n",
        "\n",
        "elseを記述すると、ループが終了するときにelseの中が処理されます。\n",
        "\n",
        "上の(1)と(2)はelseを使っているかどうかの違いですが、出力結果は同じです。\n",
        "上の(1)と(2)はelseを使っているかどうかの違いですが、出力結果は同じです。"
      ]
    },
    {
      "cell_type": "code",
      "metadata": {
        "colab": {
          "base_uri": "https://localhost:8080/"
        },
        "id": "O_5wD2rWecDk",
        "outputId": "1c86ad0a-c5d2-4ad9-ae1e-8da030f1e55d"
      },
      "source": [
        "# for文はelseを使用することが出来ます。\n",
        "sum_d = 0\n",
        "data = [20, 40, 60, 88]\n",
        "\n",
        "# (2)\n",
        "for d in data:\n",
        "    sum_d += d\n",
        "# ループが終わったら1回処理したいものが処理出来ます。\n",
        "else:\n",
        "    print(sum_d) # 208"
      ],
      "execution_count": null,
      "outputs": [
        {
          "output_type": "stream",
          "text": [
            "208\n"
          ],
          "name": "stdout"
        }
      ]
    },
    {
      "cell_type": "markdown",
      "metadata": {
        "id": "vtE8wTN8emjJ"
      },
      "source": [
        "## breakとcontinue\n",
        "\n",
        "- breakはある条件の場合に処理を終了させることができる\n",
        "- continueでは、ある条件の時に処理をスキップさせる事ができる"
      ]
    },
    {
      "cell_type": "code",
      "metadata": {
        "colab": {
          "base_uri": "https://localhost:8080/"
        },
        "id": "bTr91ugpfN49",
        "outputId": "380bbc98-6494-4eb5-cbd7-c015553b7cd7"
      },
      "source": [
        "# breakにて処理を終了\n",
        "for i in range(10):\n",
        "    if i == 3:\n",
        "        break\n",
        "    print(i) # 0 1 2を出力"
      ],
      "execution_count": null,
      "outputs": [
        {
          "output_type": "stream",
          "text": [
            "0\n",
            "1\n",
            "2\n"
          ],
          "name": "stdout"
        }
      ]
    },
    {
      "cell_type": "code",
      "metadata": {
        "colab": {
          "base_uri": "https://localhost:8080/"
        },
        "id": "yemQ9xuwfTzQ",
        "outputId": "85aba41f-2d33-47f7-c9ec-f3d3b51f79f8"
      },
      "source": [
        "# cotinue 1回スキップ\n",
        "for i in range(10):\n",
        "    if i == 3:\n",
        "        continue\n",
        "    print(i)"
      ],
      "execution_count": null,
      "outputs": [
        {
          "output_type": "stream",
          "text": [
            "0\n",
            "1\n",
            "2\n",
            "4\n",
            "5\n",
            "6\n",
            "7\n",
            "8\n",
            "9\n"
          ],
          "name": "stdout"
        }
      ]
    },
    {
      "cell_type": "code",
      "metadata": {
        "id": "Qjy-_hmcfZTj"
      },
      "source": [
        ""
      ],
      "execution_count": null,
      "outputs": []
    }
  ]
}