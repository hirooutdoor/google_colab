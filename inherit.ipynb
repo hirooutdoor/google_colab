{
  "nbformat": 4,
  "nbformat_minor": 0,
  "metadata": {
    "colab": {
      "name": "inherit.ipynb",
      "provenance": [],
      "authorship_tag": "ABX9TyNs/7Qg/kmI3eIWW2HxucMe",
      "include_colab_link": true
    },
    "kernelspec": {
      "name": "python3",
      "display_name": "Python 3"
    }
  },
  "cells": [
    {
      "cell_type": "markdown",
      "metadata": {
        "id": "view-in-github",
        "colab_type": "text"
      },
      "source": [
        "<a href=\"https://colab.research.google.com/github/hirooutdoor/google_colab/blob/main/inherit.ipynb\" target=\"_parent\"><img src=\"https://colab.research.google.com/assets/colab-badge.svg\" alt=\"Open In Colab\"/></a>"
      ]
    },
    {
      "cell_type": "code",
      "metadata": {
        "colab": {
          "base_uri": "https://localhost:8080/"
        },
        "id": "lDwkKGy8jK0S",
        "outputId": "09637220-2202-47d5-ce25-9c7d7013770b"
      },
      "source": [
        "### クラスを作るとき、クラス名はCamelCase（キャメルケース）「単語の頭文字を大文字にして接続する書式」で作るようにしてください。\n",
        "### また、関数やこの章で登場するメソッドの場合は、スネークケース(小文字の単語同士をアンダースコアで繋ぐ形式）を使います。\n",
        "### （余談ですが、小文字のみでアンダースコアなしのことをlowerケースと呼びます。）\n",
        "\n",
        "# Sampleクラスを作ります。（保存するファイル名は任意の名前で可能です。）\n",
        "class SampleClass: # クラス名の最初の文字は大文字で、また複数の単語の頭文字は大文字にします\n",
        "    # クラス内ではスペースを4つ開けてインデントしてください。クラスの中には変数やメソッド（クラスの中にある関数をメソッド）を定義できます。\n",
        "     '''sample class '''\n",
        "\n",
        "sample = SampleClass() # インスタンス クラスを使うには、関数の呼び出しのように、クラス名()することでインスタンス化します。こうすることでクラスを使うことができます。sampleにSampleClassのインスタンスが格納されました。クラスからつくられたこのデータをインスタンスと呼びます。\n",
        "\n",
        "sample.name = \"A\"\n",
        "sample2 = SampleClass() # このSample型から、いくつでもデータを作ることができるのでsample2を作りましょう。\n",
        "\n",
        "sample2.name = \"B\" # sample2に対してさまざなな属性を作ることができる。\n",
        "\n",
        "print(sample.name) # sampleの名前はA\n",
        "print(sample2.name) # sample2の名前はB"
      ],
      "execution_count": 1,
      "outputs": [
        {
          "output_type": "stream",
          "text": [
            "A\n",
            "B\n"
          ],
          "name": "stdout"
        }
      ]
    },
    {
      "cell_type": "code",
      "metadata": {
        "colab": {
          "base_uri": "https://localhost:8080/"
        },
        "id": "lcY0aIJDoNtd",
        "outputId": "b030edde-aa56-44fd-f079-21fad1cffd65"
      },
      "source": [
        "class User:\n",
        "    # 実行順②\n",
        "    def __init__(self, name): # インスタンス化されて渡ってくる値を受ける変数を定義します\n",
        "        # インスタンス変数（属性の初期化）\n",
        "        self.name = name # 実行順③\n",
        "        print(\"コンストラクタが呼ばれました\") # # 実行順④\n",
        "\n",
        "    def hello(self):\n",
        "        print(\"Hello \" + self.name)\n",
        "        \n",
        "user = User(\"Sample User\") # userというインスタンスを生成しています。　実行順①\n",
        "py = User(\"python\")\n",
        "hiro = User(\"Hiro\")\n",
        "\n",
        "user.hello()\n",
        "py.hello()\n",
        "hiro.hello()"
      ],
      "execution_count": 4,
      "outputs": [
        {
          "output_type": "stream",
          "text": [
            "コンストラクタが呼ばれました\n",
            "コンストラクタが呼ばれました\n",
            "コンストラクタが呼ばれました\n",
            "Hello Sample User\n",
            "Hello python\n",
            "Hello Hiro\n"
          ],
          "name": "stdout"
        }
      ]
    },
    {
      "cell_type": "code",
      "metadata": {
        "colab": {
          "base_uri": "https://localhost:8080/"
        },
        "id": "SGbsP0Nfrddd",
        "outputId": "2a22acaa-8052-41a2-d15b-5b4b8c1336e6"
      },
      "source": [
        "class UserScore:\n",
        "    def __init__(self, score):\n",
        "        self.score = score\n",
        "\n",
        "u = UserScore({\"english\": 100, \"math\": 100})\n",
        "u1 = UserScore({\"english\": 99, \"math\": 93})\n",
        "\n",
        "print(u.score)\n",
        "print(u1.score)"
      ],
      "execution_count": 9,
      "outputs": [
        {
          "output_type": "stream",
          "text": [
            "{'english': 100, 'math': 100}\n",
            "{'english': 99, 'math': 93}\n"
          ],
          "name": "stdout"
        }
      ]
    },
    {
      "cell_type": "code",
      "metadata": {
        "colab": {
          "base_uri": "https://localhost:8080/"
        },
        "id": "Z5-ogAsguezd",
        "outputId": "a5e373fd-a59d-4b02-aaef-82f42faf974c"
      },
      "source": [
        "class User:\n",
        "    def __init__(self, user_id, username, email):\n",
        "        self.user_id    = user_id\n",
        "        self.username  = username\n",
        "        self.email      = email\n",
        "\n",
        "    def get_userinfo(self):\n",
        "        print(self.user_id, self.username, self.email) #print()を縦に続けて書いてもOK\n",
        "\n",
        "user1 = User(1, \"test\", \"test@gmail.com\")\n",
        "user2 = User(2, \"test2\", \"test2@gmail.com\")\n",
        "\n",
        "user1.get_userinfo()\n",
        "user2.get_userinfo()"
      ],
      "execution_count": 18,
      "outputs": [
        {
          "output_type": "stream",
          "text": [
            "1 test test@gmail.com\n",
            "2 test2 test2@gmail.com\n"
          ],
          "name": "stdout"
        }
      ]
    },
    {
      "cell_type": "code",
      "metadata": {
        "colab": {
          "base_uri": "https://localhost:8080/"
        },
        "id": "MCr101bWxwRf",
        "outputId": "77925973-c1de-42c8-ad86-55e6e7e32475"
      },
      "source": [
        "class Sample:\n",
        "    def __init__(self, name):\n",
        "        self.name = name\n",
        "        self.li = []\n",
        "\n",
        "    def add(self, name):\n",
        "        self.li.append(name)\n",
        "\n",
        "a = Sample('test1')\n",
        "b = Sample('test2')\n",
        "a.add('test1 a')\n",
        "b.add('test2 b')\n",
        "a.add('test3 a')\n",
        "b.add('test4 b')\n",
        "\n",
        "print(a.li)\n",
        "print(b.li)"
      ],
      "execution_count": 27,
      "outputs": [
        {
          "output_type": "stream",
          "text": [
            "['test1 a', 'test3 a']\n",
            "['test2 b', 'test4 b']\n"
          ],
          "name": "stdout"
        }
      ]
    },
    {
      "cell_type": "code",
      "metadata": {
        "colab": {
          "base_uri": "https://localhost:8080/"
        },
        "id": "vOswNvQSzxDs",
        "outputId": "55f6cfce-dce4-4b87-daf1-6ed4baef0efe"
      },
      "source": [
        "class Sample:\n",
        "    li = []\n",
        "    def __init__(self, name):\n",
        "        self.name = name\n",
        "\n",
        "    def add(self, name):\n",
        "        self.li.append(name)\n",
        "\n",
        "a = Sample('test1')\n",
        "b = Sample('test2')\n",
        "a.add('test1 a')\n",
        "b.add('test2 b')\n",
        "\n",
        "print(a.li) # ['test1 a', 'test2 b']"
      ],
      "execution_count": 26,
      "outputs": [
        {
          "output_type": "stream",
          "text": [
            "['test1 a', 'test2 b']\n"
          ],
          "name": "stdout"
        }
      ]
    },
    {
      "cell_type": "code",
      "metadata": {
        "colab": {
          "base_uri": "https://localhost:8080/"
        },
        "id": "XvznbMpj3TqR",
        "outputId": "98959b65-387f-4d19-dfda-1a3cbbeea26c"
      },
      "source": [
        "# 基底クラス\n",
        "class Base:\n",
        "    def sample(self):\n",
        "        print(\"Base.sample()が呼ばれました\")\n",
        "\n",
        "    def test(self):\n",
        "        print(\"Baseクラスtestメソッドが呼ばれました\")\n",
        "\n",
        "# 派生クラス\n",
        "class Derived(Base):\n",
        "    def sample(self): # Baseクラスのsampleメソッドをオーバーライド\n",
        "        print(\"Derived.sample()が呼ばれました\")\n",
        "        self.test() # Baseクラスのtestメソッドを呼び出し\n",
        "\n",
        "d = Derived()\n",
        "d.sample()"
      ],
      "execution_count": 1,
      "outputs": [
        {
          "output_type": "stream",
          "text": [
            "Derived.sample()が呼ばれました\n",
            "Baseクラスtestメソッドが呼ばれました\n"
          ],
          "name": "stdout"
        }
      ]
    },
    {
      "cell_type": "code",
      "metadata": {
        "id": "uUof9rDc6SmN"
      },
      "source": [
        ""
      ],
      "execution_count": null,
      "outputs": []
    }
  ]
}