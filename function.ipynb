{
  "nbformat": 4,
  "nbformat_minor": 0,
  "metadata": {
    "colab": {
      "name": "function.ipynb",
      "provenance": [],
      "authorship_tag": "ABX9TyMir+v6OCPOpuFC3+IMCgUE",
      "include_colab_link": true
    },
    "kernelspec": {
      "name": "python3",
      "display_name": "Python 3"
    }
  },
  "cells": [
    {
      "cell_type": "markdown",
      "metadata": {
        "id": "view-in-github",
        "colab_type": "text"
      },
      "source": [
        "<a href=\"https://colab.research.google.com/github/hirooutdoor/google_colab/blob/main/function.ipynb\" target=\"_parent\"><img src=\"https://colab.research.google.com/assets/colab-badge.svg\" alt=\"Open In Colab\"/></a>"
      ]
    },
    {
      "cell_type": "markdown",
      "metadata": {
        "id": "BTWm3kwJugJs"
      },
      "source": [
        " ## 関数について\n",
        "\n",
        "> 独自関数\n",
        "\n",
        "自由に名前と処理を考え作ることができる\n",
        "\n",
        "> 標準関数\n",
        "\n",
        "Pythonをインストールした時から使用できる関数\n",
        "\n",
        "print関数やlen関数など\n"
      ]
    },
    {
      "cell_type": "code",
      "metadata": {
        "colab": {
          "base_uri": "https://localhost:8080/"
        },
        "id": "X02ti3qrumiB",
        "outputId": "660b9880-e845-419d-f2b6-8a5f372bdd50"
      },
      "source": [
        "# len()は()の中に渡した値の要素数を取得する事が出来ます。\n",
        "a = [10, 20, 30, 40, 50]\n",
        "print(len(a)) # 5\n"
      ],
      "execution_count": 1,
      "outputs": [
        {
          "output_type": "stream",
          "text": [
            "5\n"
          ],
          "name": "stdout"
        }
      ]
    },
    {
      "cell_type": "code",
      "metadata": {
        "colab": {
          "base_uri": "https://localhost:8080/"
        },
        "id": "di_xMdpCvToG",
        "outputId": "95725b05-8eb5-4df8-9a12-ca09f854c71d"
      },
      "source": [
        "from random import choice\n",
        "a = [10, 20, 30, 40, 50] # 先ほど定義したリストa\n",
        "print(choice(a)) # choice()はリスト（ここではリストa）からランダムな要素を1つ選び取得（実行毎に出力結果が異なります。）"
      ],
      "execution_count": 3,
      "outputs": [
        {
          "output_type": "stream",
          "text": [
            "50\n"
          ],
          "name": "stdout"
        }
      ]
    },
    {
      "cell_type": "code",
      "metadata": {
        "colab": {
          "base_uri": "https://localhost:8080/"
        },
        "id": "gEz9AZ9Dw7E_",
        "outputId": "6505dbdf-3aac-4902-f076-560f14fd024e"
      },
      "source": [
        "# hello関数の定義\n",
        "def hello():\n",
        "    print(\"hello!\")\n",
        "\n",
        "# 関数の呼び出し(実行)\n",
        "hello() # hello! が出力される"
      ],
      "execution_count": 4,
      "outputs": [
        {
          "output_type": "stream",
          "text": [
            "hello!\n"
          ],
          "name": "stdout"
        }
      ]
    },
    {
      "cell_type": "code",
      "metadata": {
        "colab": {
          "base_uri": "https://localhost:8080/"
        },
        "id": "TruSQuICxPqn",
        "outputId": "a1c80348-3142-405b-95cf-84d0470ea153"
      },
      "source": [
        "# 関数名をつける時は、小文字のみで定義します。\n",
        "# また、必要に応じて単語をアンダースコアで区切ります。\n",
        "def lowercase_underscore():\n",
        "    print(\"lowercase_underscore\")\n",
        "    \n",
        "lowercase_underscore()"
      ],
      "execution_count": 5,
      "outputs": [
        {
          "output_type": "stream",
          "text": [
            "lowercase_underscore\n"
          ],
          "name": "stdout"
        }
      ]
    },
    {
      "cell_type": "code",
      "metadata": {
        "id": "ETQD4PjTxYtX"
      },
      "source": [
        "# 何も処理のないtest関数を定義\n",
        "def test():\n",
        "    pass"
      ],
      "execution_count": 6,
      "outputs": []
    },
    {
      "cell_type": "code",
      "metadata": {
        "colab": {
          "base_uri": "https://localhost:8080/"
        },
        "id": "SoBQl1K7xg_7",
        "outputId": "a5222892-6f80-4206-e9f9-42a4b1c87ae9"
      },
      "source": [
        "#input()を使って受け取った値は、文字列型になります。\n",
        "print(\"名前を入力してください\")\n",
        "name = input()\n",
        "print(\"あなたの名前は\"+name+\"です\")"
      ],
      "execution_count": 7,
      "outputs": [
        {
          "output_type": "stream",
          "text": [
            "名前を入力してください\n",
            "寛文ちゃん\n",
            "あなたの名前は寛文ちゃんです\n"
          ],
          "name": "stdout"
        }
      ]
    },
    {
      "cell_type": "markdown",
      "metadata": {
        "id": "qSsGEuXexoFu"
      },
      "source": [
        "\n",
        "## 引数とは\n",
        "**引数とは、関数を呼び出す際に関数に与える値のことです。:**\n",
        "\n",
        "大きく2種類に分けることが出来ます。\n",
        "\n",
        "**1) 仮引数（関数の定義側で受け取る値）**\n",
        "\n",
        "**2) 実引数（関数の呼び出し側で与える値）**\n",
        "\n",
        "以下、引数を用いた関数のサンプルプログラムです。"
      ]
    },
    {
      "cell_type": "code",
      "metadata": {
        "colab": {
          "base_uri": "https://localhost:8080/"
        },
        "id": "LLCKozZ0yWxP",
        "outputId": "b19d778a-4ad5-4af2-ac17-d711e97deedf"
      },
      "source": [
        "def say_hello(name): #()内にあるnameが仮引数\n",
        "    print(\"こんにちは\" + str(name) + \"さん\")\n",
        "\n",
        "say_hello(\"山田\") # ()内の\"山田\"という文字列が実引数"
      ],
      "execution_count": 8,
      "outputs": [
        {
          "output_type": "stream",
          "text": [
            "こんにちは山田さん\n"
          ],
          "name": "stdout"
        }
      ]
    },
    {
      "cell_type": "code",
      "metadata": {
        "colab": {
          "base_uri": "https://localhost:8080/"
        },
        "id": "64xRhDM-y6UJ",
        "outputId": "516ea064-6951-4398-98fe-045574a06ca5"
      },
      "source": [
        "def func(a, b=5):\n",
        "    print(a)\n",
        "    print(b)\n",
        "\n",
        "func(10,15) # 10と15が出力される\n",
        "func(3) # 3と5が出力される"
      ],
      "execution_count": 9,
      "outputs": [
        {
          "output_type": "stream",
          "text": [
            "10\n",
            "15\n",
            "3\n",
            "5\n"
          ],
          "name": "stdout"
        }
      ]
    },
    {
      "cell_type": "code",
      "metadata": {
        "colab": {
          "base_uri": "https://localhost:8080/"
        },
        "id": "hdH_sVELzLl7",
        "outputId": "cf22073c-b656-4d69-c94a-0d887236d255"
      },
      "source": [
        "def sample(arg, arg_list=[]):\n",
        "    arg_list.append(arg)\n",
        "    print(arg_list)\n",
        "\n",
        "sample('python') #入力した際に、最初に入れた引数がargに保存される\n",
        "sample('Python') #"
      ],
      "execution_count": 17,
      "outputs": [
        {
          "output_type": "stream",
          "text": [
            "['Python']\n"
          ],
          "name": "stdout"
        }
      ]
    },
    {
      "cell_type": "code",
      "metadata": {
        "colab": {
          "base_uri": "https://localhost:8080/"
        },
        "id": "rQ4qHegZ0lVy",
        "outputId": "77964bcf-ff75-4993-91f8-be59d3f912ab"
      },
      "source": [
        "def sample(arg):\n",
        "    arg_list = [] # リストの初期化\n",
        "    arg_list.append(arg)\n",
        "    print(arg_list)\n",
        "\n",
        "sample('python') # ['python']\n",
        "sample('Python') # ['Python']"
      ],
      "execution_count": 15,
      "outputs": [
        {
          "output_type": "stream",
          "text": [
            "['python']\n",
            "['Python']\n"
          ],
          "name": "stdout"
        }
      ]
    },
    {
      "cell_type": "markdown",
      "metadata": {
        "id": "LCEYVfAb4mXn"
      },
      "source": [
        "### 演習問題"
      ]
    },
    {
      "cell_type": "code",
      "metadata": {
        "colab": {
          "base_uri": "https://localhost:8080/"
        },
        "id": "xLzxJLYf1FPE",
        "outputId": "e204b6be-96de-4b75-fe2b-9407f0ec0659"
      },
      "source": [
        "def gen_text(text, num):\n",
        "    return text * int(num)\n",
        "\n",
        "text = gen_text(\"繰り返したい文字\", 3)\n",
        "print(text) #  繰り返したい文字繰り返したい文字繰り返したい文字\n",
        "\n",
        "text2 = gen_text(\"python\", 5)\n",
        "print(text2) # pythonpythonpythonpythonpython"
      ],
      "execution_count": 23,
      "outputs": [
        {
          "output_type": "stream",
          "text": [
            "繰り返したい文字繰り返したい文字繰り返したい文字\n",
            "pythonpythonpythonpythonpython\n"
          ],
          "name": "stdout"
        }
      ]
    },
    {
      "cell_type": "code",
      "metadata": {
        "colab": {
          "base_uri": "https://localhost:8080/"
        },
        "id": "1FyP133x5Q3q",
        "outputId": "0939e536-c895-4a4e-8039-25dff1931f29"
      },
      "source": [
        "print(\"hello\" * 3) #上の問題の確認 str * int でstrを繰り返すことができるのは知らなかった"
      ],
      "execution_count": 25,
      "outputs": [
        {
          "output_type": "stream",
          "text": [
            "hellohellohello\n"
          ],
          "name": "stdout"
        }
      ]
    },
    {
      "cell_type": "markdown",
      "metadata": {
        "id": "LYS5oIJn6QVM"
      },
      "source": [
        "\n",
        "### 変数のスコープ  "
      ]
    },
    {
      "cell_type": "code",
      "metadata": {
        "colab": {
          "base_uri": "https://localhost:8080/",
          "height": 219
        },
        "id": "Do5RNsrT7BWR",
        "outputId": "6691315d-2c0c-4deb-f279-879f24dbdd80"
      },
      "source": [
        "# 2つ目のサンプルプログラム\n",
        "def add(x1):\n",
        "    x2 = 10 # 関数内で変数を作成(ローカル変数)\n",
        "    result = x1 + x2\n",
        "    print(result)\n",
        "\n",
        "add(5) # 5 + 10で15が出力\n",
        "print(x2) # ここでエラーが発生"
      ],
      "execution_count": 26,
      "outputs": [
        {
          "output_type": "stream",
          "text": [
            "15\n"
          ],
          "name": "stdout"
        },
        {
          "output_type": "error",
          "ename": "NameError",
          "evalue": "ignored",
          "traceback": [
            "\u001b[0;31m---------------------------------------------------------------------------\u001b[0m",
            "\u001b[0;31mNameError\u001b[0m                                 Traceback (most recent call last)",
            "\u001b[0;32m<ipython-input-26-7e9f8f996165>\u001b[0m in \u001b[0;36m<module>\u001b[0;34m()\u001b[0m\n\u001b[1;32m      6\u001b[0m \u001b[0;34m\u001b[0m\u001b[0m\n\u001b[1;32m      7\u001b[0m \u001b[0madd\u001b[0m\u001b[0;34m(\u001b[0m\u001b[0;36m5\u001b[0m\u001b[0;34m)\u001b[0m \u001b[0;31m# 5 + 10で15が出力\u001b[0m\u001b[0;34m\u001b[0m\u001b[0;34m\u001b[0m\u001b[0m\n\u001b[0;32m----> 8\u001b[0;31m \u001b[0mprint\u001b[0m\u001b[0;34m(\u001b[0m\u001b[0mx2\u001b[0m\u001b[0;34m)\u001b[0m \u001b[0;31m# ここでエラーが発生\u001b[0m\u001b[0;34m\u001b[0m\u001b[0;34m\u001b[0m\u001b[0m\n\u001b[0m",
            "\u001b[0;31mNameError\u001b[0m: name 'x2' is not defined"
          ]
        }
      ]
    },
    {
      "cell_type": "code",
      "metadata": {
        "colab": {
          "base_uri": "https://localhost:8080/"
        },
        "id": "8fAyeRUN8Di5",
        "outputId": "708c09f4-c67e-4104-d07e-8cc4c345f983"
      },
      "source": [
        "def add(x1,x2):\n",
        "    result = x1 + x2\n",
        "    return result\n",
        "\n",
        "x1 = 5 #それぞれ外で定義する\n",
        "x2 = 10\n",
        "result = add(x1, x2) # 5 + 10で15が出力\n",
        "print(result)"
      ],
      "execution_count": 27,
      "outputs": [
        {
          "output_type": "stream",
          "text": [
            "15\n"
          ],
          "name": "stdout"
        }
      ]
    },
    {
      "cell_type": "markdown",
      "metadata": {
        "id": "7qx8iSlS-Oei"
      },
      "source": [
        "気づいたことまとめ\n",
        "\n",
        "- グローバル宣言をしたら関数内からグローバル変数（関数定義の外側）で定義した変数にアクセスでき、ローカル変数に置き換えることができる\n",
        "- グローバル変数を定義しなかったら、最後に定義したglb=5が全てに継承される\n",
        "- グローバル宣言をしなかったら、関数で定義した変数は無視され、グローバル変数が出力される"
      ]
    },
    {
      "cell_type": "code",
      "metadata": {
        "colab": {
          "base_uri": "https://localhost:8080/"
        },
        "id": "7bfCCuwI8Lo8",
        "outputId": "b02e1640-57c4-42b9-a404-73b67e403ab1"
      },
      "source": [
        "glb = 0\n",
        "\n",
        "def func1():\n",
        "    glb = 1\n",
        "\n",
        "def func2():\n",
        "    global glb #グローバル宣言：関数内でグローバル変数にアクセスするための宣言\n",
        "    glb = 5\n",
        "\n",
        "print(glb) # 0が出力される\n",
        "\n",
        "func1()\n",
        "print(glb) # 0が出力される：グローバル宣言がされてないので関数内のglbは無視される\n",
        "\n",
        "func2()\n",
        "print(glb) # 5が出力される：グローバル宣言がされているので関数内のglbは無視されない（ちゃんと出力してくれる）\n"
      ],
      "execution_count": 32,
      "outputs": [
        {
          "output_type": "stream",
          "text": [
            "0\n",
            "0\n",
            "5\n"
          ],
          "name": "stdout"
        }
      ]
    },
    {
      "cell_type": "markdown",
      "metadata": {
        "id": "xKNXrdLk8-5R"
      },
      "source": [
        "\n",
        "### 演習問題"
      ]
    },
    {
      "cell_type": "code",
      "metadata": {
        "colab": {
          "base_uri": "https://localhost:8080/"
        },
        "id": "6bKQYls4_Rhr",
        "outputId": "342f957b-bc35-4148-935c-8fe688f45fdf"
      },
      "source": [
        "from random import choice\n",
        "\n",
        "def get_fortune():\n",
        "    # ここにコードを記述して下さい。\n",
        "    results = ['大吉', '吉', '小吉', '凶', '大凶', '末吉']\n",
        "    return \"今日の運勢は\" +  choice(results) + \"です\" #choice()で使用できる\n",
        "\n",
        "result = get_fortune()\n",
        "print(result) # 今日の運勢は大吉です"
      ],
      "execution_count": 34,
      "outputs": [
        {
          "output_type": "stream",
          "text": [
            "今日の運勢は吉です\n"
          ],
          "name": "stdout"
        }
      ]
    },
    {
      "cell_type": "markdown",
      "metadata": {
        "id": "rrtL7iYM_SlR"
      },
      "source": [
        "## 戻り値について\n"
      ]
    },
    {
      "cell_type": "code",
      "metadata": {
        "colab": {
          "base_uri": "https://localhost:8080/"
        },
        "id": "2yRMIgDb_80D",
        "outputId": "63287c42-4758-4455-e539-9b5a434b102b"
      },
      "source": [
        "# def 関数名(引数):\n",
        "#     処理\n",
        "#     return 戻り値\n",
        "\n",
        "def adder(a, b):\n",
        "    return a+b\n",
        "\n",
        "# 関数内部の処理を変数に保持しておきたい時にreturnは便利です。\n",
        "value = adder(5,10) # 変数valueに15が代入される\n",
        "\n",
        "# 先ほどのlen()を用いて戻り値（返り値）に関して説明します。\n",
        "# 変数dataは、1〜5の5つの要素を持ったリストです。\n",
        "data = [1,2,3,4,5]\n",
        "\n",
        "# 関数len()を実行することで、リストであるdataの要素5が戻り値になります。\n",
        "# その返り値5が変数valueに代入されます。\n",
        "\n",
        "value = len(data)\n",
        "\n",
        "print(value) # 5"
      ],
      "execution_count": 37,
      "outputs": [
        {
          "output_type": "stream",
          "text": [
            "5\n"
          ],
          "name": "stdout"
        }
      ]
    },
    {
      "cell_type": "markdown",
      "metadata": {
        "id": "HvaqPcYaBEnC"
      },
      "source": [
        "## rerutnとprint()の違い\n",
        "大前提として、print()とreturnは全くの別物なため、しっかり使い分けが出来るようにする必要があります。\n",
        "まず、2つの違いとしては次の通りです。\n",
        "\n",
        "1. returnは値を返すことが目的\n",
        "2. print()は値を出力すること目的\n",
        "\n",
        "つまり、returnを使うということは値を返す必要がある時に使用するということになります。"
      ]
    },
    {
      "cell_type": "code",
      "metadata": {
        "colab": {
          "base_uri": "https://localhost:8080/"
        },
        "id": "-MrDPKu4BRe6",
        "outputId": "8357c75e-e23c-47c4-8b00-6538d841c30c"
      },
      "source": [
        "def a(a,b):\n",
        "    return a + b\n",
        "\n",
        "def b(a,b):\n",
        "    return a * b\n",
        "\n",
        "x = a(2,2) # xに4が代入\n",
        "y = b(x, x)  # 4 * 4\n",
        "\n",
        "print(y) # 16が出力される"
      ],
      "execution_count": 38,
      "outputs": [
        {
          "output_type": "stream",
          "text": [
            "16\n"
          ],
          "name": "stdout"
        }
      ]
    },
    {
      "cell_type": "code",
      "metadata": {
        "id": "_cYihVV6BUZz"
      },
      "source": [
        ""
      ],
      "execution_count": null,
      "outputs": []
    }
  ]
}