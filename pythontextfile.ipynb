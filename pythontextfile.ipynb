{
  "nbformat": 4,
  "nbformat_minor": 0,
  "metadata": {
    "colab": {
      "name": "pythontextfile.ipynb",
      "provenance": [],
      "collapsed_sections": [],
      "authorship_tag": "ABX9TyOliO6hi0f4ADiML6KSxX0t",
      "include_colab_link": true
    },
    "kernelspec": {
      "name": "python3",
      "display_name": "Python 3"
    }
  },
  "cells": [
    {
      "cell_type": "markdown",
      "metadata": {
        "id": "view-in-github",
        "colab_type": "text"
      },
      "source": [
        "<a href=\"https://colab.research.google.com/github/hirooutdoor/google_colab/blob/main/pythontextfile.ipynb\" target=\"_parent\"><img src=\"https://colab.research.google.com/assets/colab-badge.svg\" alt=\"Open In Colab\"/></a>"
      ]
    },
    {
      "cell_type": "code",
      "metadata": {
        "colab": {
          "base_uri": "https://localhost:8080/"
        },
        "id": "5cGCESxZ_sWW",
        "outputId": "bc41715b-2af5-425e-e69a-65c2d48a4b12"
      },
      "source": [
        "f = open(\"./sample.txt\", \"r\")\n",
        "print(f.read())\n",
        "f.close()"
      ],
      "execution_count": 21,
      "outputs": [
        {
          "output_type": "stream",
          "text": [
            "aaaaasample01\n",
            "sample02\n",
            "sample01\n",
            "sample02\n",
            "sample01\n",
            "sample02\n",
            "sample01\n",
            "sample02\n",
            "sample01\n",
            "sample02\n",
            "sample01\n",
            "sample02\n",
            "sample01\n",
            "sample02\n",
            "sample01\n",
            "sample02\n",
            "sample01\n",
            "sample02\n",
            "\n"
          ],
          "name": "stdout"
        }
      ]
    },
    {
      "cell_type": "code",
      "metadata": {
        "id": "fHiISHijIG9t"
      },
      "source": [
        "with open(\"/content/sample.txt\", mode=\"a\") as f:\n",
        "    f.write(\"sample01\\n\")\n",
        "    f.write(\"sample02\\n\")"
      ],
      "execution_count": 20,
      "outputs": []
    },
    {
      "cell_type": "code",
      "metadata": {
        "id": "n3CiNT6iKpwM"
      },
      "source": [
        ""
      ],
      "execution_count": null,
      "outputs": []
    }
  ]
}