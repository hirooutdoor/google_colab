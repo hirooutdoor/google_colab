{
  "nbformat": 4,
  "nbformat_minor": 0,
  "metadata": {
    "colab": {
      "name": "module_practice.ipynb",
      "provenance": [],
      "collapsed_sections": [],
      "authorship_tag": "ABX9TyP5oxoimnqx7R2NG0+zMB/d",
      "include_colab_link": true
    },
    "kernelspec": {
      "name": "python3",
      "display_name": "Python 3"
    }
  },
  "cells": [
    {
      "cell_type": "markdown",
      "metadata": {
        "id": "view-in-github",
        "colab_type": "text"
      },
      "source": [
        "<a href=\"https://colab.research.google.com/github/hirooutdoor/google_colab/blob/main/module_practice.ipynb\" target=\"_parent\"><img src=\"https://colab.research.google.com/assets/colab-badge.svg\" alt=\"Open In Colab\"/></a>"
      ]
    },
    {
      "cell_type": "code",
      "metadata": {
        "colab": {
          "base_uri": "https://localhost:8080/"
        },
        "id": "hJnKAntO5QPi",
        "outputId": "4c611cb7-0452-428d-d094-b5e3db3320c6"
      },
      "source": [
        "import calendar\n",
        "print(calendar.month(2020, 1, w=0, l=0))"
      ],
      "execution_count": 10,
      "outputs": [
        {
          "output_type": "stream",
          "text": [
            "    January 2020\n",
            "Mo Tu We Th Fr Sa Su\n",
            "       1  2  3  4  5\n",
            " 6  7  8  9 10 11 12\n",
            "13 14 15 16 17 18 19\n",
            "20 21 22 23 24 25 26\n",
            "27 28 29 30 31\n",
            "\n"
          ],
          "name": "stdout"
        }
      ]
    },
    {
      "cell_type": "code",
      "metadata": {
        "colab": {
          "base_uri": "https://localhost:8080/"
        },
        "id": "ekG88s6V71eK",
        "outputId": "36ff24c4-ce8d-40f6-a568-b85652d98728"
      },
      "source": [
        "import fortune as ft\n",
        "result = ft.get_fortune()\n",
        "print(\"今日の運勢は．．．\", result)"
      ],
      "execution_count": 24,
      "outputs": [
        {
          "output_type": "stream",
          "text": [
            "今日の運勢は...  大吉\n"
          ],
          "name": "stdout"
        }
      ]
    },
    {
      "cell_type": "code",
      "metadata": {
        "colab": {
          "base_uri": "https://localhost:8080/"
        },
        "id": "VGFWitU79Tdk",
        "outputId": "18c4b6e3-8510-43c8-f070-ed221b4750a7"
      },
      "source": [
        "from fortune import get_fortune #必要な関数だけインポートもできます\n",
        "\n",
        "result = get_fortune()\n",
        "print(\"今日の運勢は... \", result)"
      ],
      "execution_count": 25,
      "outputs": [
        {
          "output_type": "stream",
          "text": [
            "今日の運勢は...  大凶\n"
          ],
          "name": "stdout"
        }
      ]
    },
    {
      "cell_type": "code",
      "metadata": {
        "colab": {
          "base_uri": "https://localhost:8080/"
        },
        "id": "IGFKGTtTAwgj",
        "outputId": "e0acbc78-99b8-412f-ebf2-607953de56f5"
      },
      "source": [
        "from fortune import get_fortune as gf #インポートした関数にさらに別名をつけられる！\n",
        "\n",
        "result = gf()\n",
        "print(\"今日の運勢は... \", result)"
      ],
      "execution_count": 26,
      "outputs": [
        {
          "output_type": "stream",
          "text": [
            "今日の運勢は...  小吉\n"
          ],
          "name": "stdout"
        }
      ]
    },
    {
      "cell_type": "code",
      "metadata": {
        "id": "HUiPIEXqA6oO"
      },
      "source": [
        "import fizzbuzz\n",
        "fizzbuzz.fizzbuzz()"
      ],
      "execution_count": null,
      "outputs": []
    },
    {
      "cell_type": "code",
      "metadata": {
        "colab": {
          "base_uri": "https://localhost:8080/"
        },
        "id": "GsgTIoQuJSIR",
        "outputId": "eb345b7c-793d-4fe2-d27b-6206872a7180"
      },
      "source": [
        "li = [1, 2, 3, 4, 5]\n",
        "print(li[0: 4]) # [1, 2, 3, 4]\n",
        "print(li[: 4])  # [1, 2, 3, 4]\n",
        "print(li[-3:])  # [3, 4, 5]\n",
        "print(li[2: -1])# [3, 4]\n",
        "\n",
        "# 覚えておくと良い手法\n",
        "\n",
        "# 逆順\n",
        "print(li[::-1]) # [5, 4, 3, 2, 1]\n",
        "\n",
        "# 全ての要素を取得\n",
        "print(li[:])    #  [1, 2, 3, 4, 5]\n",
        "print(li)  "
      ],
      "execution_count": 42,
      "outputs": [
        {
          "output_type": "stream",
          "text": [
            "[1, 2, 3, 4]\n",
            "[1, 2, 3, 4]\n",
            "[3, 4, 5]\n",
            "[3, 4]\n",
            "[5, 4, 3, 2, 1]\n",
            "[1, 2, 3, 4, 5]\n",
            "[1, 2, 3, 4, 5]\n"
          ],
          "name": "stdout"
        }
      ]
    },
    {
      "cell_type": "code",
      "metadata": {
        "id": "8cXzyDXKJU90"
      },
      "source": [
        ""
      ],
      "execution_count": null,
      "outputs": []
    }
  ]
}